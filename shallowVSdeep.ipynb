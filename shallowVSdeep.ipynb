{
 "cells": [
  {
   "cell_type": "code",
   "execution_count": 1,
   "metadata": {},
   "outputs": [
    {
     "name": "stderr",
     "output_type": "stream",
     "text": [
      "Using TensorFlow backend.\n"
     ]
    }
   ],
   "source": [
    "import numpy as np\n",
    "import pandas as pd\n",
    "import math\n",
    "from tensorflow import keras\n",
    "from keras.models import Sequential\n",
    "from statistics import mean   \n",
    "from keras.layers import Dense\n",
    "from keras.wrappers.scikit_learn import KerasRegressor\n",
    "from sklearn import metrics\n",
    "import warnings\n",
    "import matplotlib.pyplot as plt\n",
    "\n",
    "warnings.filterwarnings('ignore')\n",
    "warnings.filterwarnings(\"ignore\", category=FutureWarning)\n",
    "import time\n",
    "from sklearn.model_selection import cross_val_score, cross_val_predict, train_test_split, GridSearchCV, RandomizedSearchCV\n"
   ]
  },
  {
   "cell_type": "code",
   "execution_count": 3,
   "metadata": {},
   "outputs": [
    {
     "data": {
      "text/html": [
       "<div>\n",
       "<style scoped>\n",
       "    .dataframe tbody tr th:only-of-type {\n",
       "        vertical-align: middle;\n",
       "    }\n",
       "\n",
       "    .dataframe tbody tr th {\n",
       "        vertical-align: top;\n",
       "    }\n",
       "\n",
       "    .dataframe thead th {\n",
       "        text-align: right;\n",
       "    }\n",
       "</style>\n",
       "<table border=\"1\" class=\"dataframe\">\n",
       "  <thead>\n",
       "    <tr style=\"text-align: right;\">\n",
       "      <th></th>\n",
       "      <th>x</th>\n",
       "      <th>y</th>\n",
       "    </tr>\n",
       "  </thead>\n",
       "  <tbody>\n",
       "    <tr>\n",
       "      <td>0</td>\n",
       "      <td>-5.923826</td>\n",
       "      <td>0.132965</td>\n",
       "    </tr>\n",
       "    <tr>\n",
       "      <td>1</td>\n",
       "      <td>3.315804</td>\n",
       "      <td>0.766870</td>\n",
       "    </tr>\n",
       "    <tr>\n",
       "      <td>2</td>\n",
       "      <td>3.070631</td>\n",
       "      <td>0.959985</td>\n",
       "    </tr>\n",
       "    <tr>\n",
       "      <td>3</td>\n",
       "      <td>-1.044778</td>\n",
       "      <td>-0.508358</td>\n",
       "    </tr>\n",
       "    <tr>\n",
       "      <td>4</td>\n",
       "      <td>-2.003834</td>\n",
       "      <td>-0.160654</td>\n",
       "    </tr>\n",
       "  </tbody>\n",
       "</table>\n",
       "</div>"
      ],
      "text/plain": [
       "          x         y\n",
       "0 -5.923826  0.132965\n",
       "1  3.315804  0.766870\n",
       "2  3.070631  0.959985\n",
       "3 -1.044778 -0.508358\n",
       "4 -2.003834 -0.160654"
      ]
     },
     "execution_count": 3,
     "metadata": {},
     "output_type": "execute_result"
    }
   ],
   "source": [
    "pi=math.pi\n",
    "s = np.random.uniform(-2*pi,2*pi,120000)\n",
    "df = pd.DataFrame(s)\n",
    "df['x']=df[0]\n",
    "df=df.drop([0], axis=1)\n",
    "df['y']=df['x'].map(lambda x: ((((2*(math.cos(x)**2))-1))**2)*2)-1\n",
    "\n",
    "X_dataframe = df['x']\n",
    "y_dataframe = df['y']\n",
    "\n",
    "\n",
    "X_train, X_test_holdout, y_train, y_test_holdout = train_test_split(X_dataframe, y_dataframe, test_size=0.5, random_state=42)\n",
    "df.head(5)\n"
   ]
  },
  {
   "cell_type": "code",
   "execution_count": 6,
   "metadata": {},
   "outputs": [],
   "source": [
    "def build_model(unit):\n",
    "    model_shallow = Sequential() \n",
    "    model_shallow.add(Dense(units=unit, activation = 'relu', input_dim=1)) \n",
    "    model_shallow.add(Dense(units=1)) \n",
    "    model_shallow.compile(optimizer='adam', loss='mean_squared_error',  metrics=['mse'])\n",
    "    \n",
    "    model_medium = Sequential() \n",
    "    model_medium.add(Dense(units=round(unit/2), activation = 'relu', input_dim=1)) \n",
    "    model_medium.add(Dense(units=round(unit/2), activation = 'relu', input_dim=1))\n",
    "    model_medium.add(Dense(units=1)) \n",
    "    model_medium.compile(optimizer='adam', loss='mean_squared_error',  metrics=['mse'])\n",
    "    \n",
    "    model_deep = Sequential() \n",
    "    model_deep.add(Dense(units=round(unit/3), activation = 'relu', input_dim=1)) \n",
    "    model_deep.add(Dense(units=round(unit/3), activation = 'relu', input_dim=1))\n",
    "    model_deep.add(Dense(units=round(unit/3), activation = 'relu', input_dim=1))\n",
    "    model_deep.add(Dense(units=1)) \n",
    "    model_deep.compile(optimizer='adam', loss='mean_squared_error',  metrics=['mse'])\n",
    "         \n",
    "    return model_shallow,model_medium,model_deep"
   ]
  },
  {
   "cell_type": "code",
   "execution_count": 16,
   "metadata": {},
   "outputs": [],
   "source": [
    "error_shallow=[]\n",
    "error_medium=[]\n",
    "error_deep=[]\n",
    "units=[]"
   ]
  },
  {
   "cell_type": "code",
   "execution_count": null,
   "metadata": {},
   "outputs": [],
   "source": [
    "\n",
    "for unit in [20,40,60,80]:\n",
    "    model_shallow,model_medium,model_deep=build_model(unit)      \n",
    "    hist1=model_shallow.fit(X_train,y_train, epochs=35, batch_size=85)\n",
    "    hist2=model_medium.fit(X_train,y_train, epochs=35, batch_size=85)\n",
    "    hist3=model_deep.fit(X_train,y_train, epochs=35, batch_size=85)\n",
    "    y_pred_shallow = model_shallow.predict(X_test_holdout)\n",
    "    y_pred_medium = model_medium.predict(X_test_holdout)\n",
    "    y_pred_deep = model_deep.predict(X_test_holdout)\n",
    "    mse_shallow=metrics.mean_squared_error(y_test_holdout, y_pred_shallow)\n",
    "    mse_medium=metrics.mean_squared_error(y_test_holdout, y_pred_medium)\n",
    "    mse_deep=metrics.mean_squared_error(y_test_holdout, y_pred_deep)\n",
    "    error_shallow.append(mse_shallow)\n",
    "    error_medium.append(mse_medium)\n",
    "    error_deep.append(mse_deep)\n",
    "    units.append(unit)\n",
    "    "
   ]
  },
  {
   "cell_type": "code",
   "execution_count": 18,
   "metadata": {},
   "outputs": [
    {
     "data": {
      "image/png": "[encoded data removed]",
      "text/plain": [
       "<Figure size 432x288 with 1 Axes>"
      ]
     },
     "metadata": {
      "needs_background": "light"
     },
     "output_type": "display_data"
    }
   ],
   "source": [
    "plt.plot(units,error_shallow,label='1 hidden')\n",
    "plt.plot(units,error_medium,label='2 hidden')\n",
    "plt.plot(units,error_deep,label='3 hidden')\n",
    "plt.legend(loc='upper right')\n",
    "plt.ylabel('mse')\n",
    "plt.xlabel('units')\n",
    "#plt.legend(['train', 'validation'], loc='upper left')\n",
    "plt.show()\n",
    "\n",
    "\n"
   ]
  }
 ],
 "metadata": {
  "kernelspec": {
   "display_name": "Python 3",
   "language": "python",
   "name": "python3"
  },
  "language_info": {
   "codemirror_mode": {
    "name": "ipython",
    "version": 3
   },
   "file_extension": ".py",
   "mimetype": "text/x-python",
   "name": "python",
   "nbconvert_exporter": "python",
   "pygments_lexer": "ipython3",
   "version": "3.7.4"
  }
 },
 "nbformat": 4,
 "nbformat_minor": 2
}
